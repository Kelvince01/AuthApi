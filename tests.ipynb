{
 "cells": [
  {
   "cell_type": "code",
   "execution_count": 3,
   "source": [
    "error_dicts = [\r\n",
    "            # Email required\r\n",
    "            {'payload': {'email': '','username': 'username',\r\n",
    "                         'password': 'pw'},\r\n",
    "             'status_code': 400,\r\n",
    "             'error': ('email', 'This field may not be blank.')\r\n",
    "             },\r\n",
    "             # Username required\r\n",
    "            {'payload': {'email': 'sample@mail.com','username': '',\r\n",
    "                         'password': 'pw'},\r\n",
    "             'status_code': 400,\r\n",
    "             'error': ('username', 'This field may not be blank.')\r\n",
    "             },\r\n",
    "        ]"
   ],
   "outputs": [],
   "metadata": {}
  },
  {
   "cell_type": "code",
   "execution_count": 24,
   "source": [
    "payload = error_dicts[0]\r\n",
    "for key in payload.items():\r\n",
    "    for k in key:\r\n",
    "        print(k)"
   ],
   "outputs": [
    {
     "output_type": "stream",
     "name": "stdout",
     "text": [
      "payload\n",
      "{'email': '', 'username': 'username', 'password': 'pw'}\n",
      "status_code\n",
      "400\n",
      "error\n",
      "('email', 'This field may not be blank.')\n"
     ]
    }
   ],
   "metadata": {}
  },
  {
   "cell_type": "code",
   "execution_count": 26,
   "source": [
    "for error_dict in error_dicts:\r\n",
    "    e = error_dict['error'][1]\r\n",
    "    print(e)"
   ],
   "outputs": [
    {
     "output_type": "stream",
     "name": "stdout",
     "text": [
      "T\n",
      "T\n"
     ]
    }
   ],
   "metadata": {}
  },
  {
   "cell_type": "code",
   "execution_count": null,
   "source": [
    "user_visitor_email = 'visitor@mail.com'\r\n",
    "user_visitor_username = 'visitor'\r\n",
    "user_visitor_pw = 'visitor'\r\n",
    "\r\n",
    "payload = {\r\n",
    "    'email': user_visitor_email,\r\n",
    "    'username': user_visitor_username,\r\n",
    "    'password': user_visitor_pw,\r\n",
    "}\r\n",
    "\r\n",
    "from django.test import TestCase, Client\r\n",
    "from rest_framework.test import APITestCase\r\n",
    "from django.test.utils import override_settings\r\n",
    "from django.conf import settings\r\n",
    "settings.configure()\r\n",
    "\r\n",
    "@override_settings(AUTH_EMAIL_VERIFICATION=True)\r\n",
    "class SignupTests(APITestCase):\r\n",
    "    def setup(self):\r\n",
    "        client = Client()\r\n",
    "        url = 'http://127.0.0.1/api/signup'\r\n",
    "        response = client.post(url, payload)"
   ],
   "outputs": [],
   "metadata": {}
  },
  {
   "cell_type": "code",
   "execution_count": null,
   "source": [],
   "outputs": [],
   "metadata": {}
  }
 ],
 "metadata": {
  "orig_nbformat": 4,
  "language_info": {
   "name": "python",
   "version": "3.9.6",
   "mimetype": "text/x-python",
   "codemirror_mode": {
    "name": "ipython",
    "version": 3
   },
   "pygments_lexer": "ipython3",
   "nbconvert_exporter": "python",
   "file_extension": ".py"
  },
  "kernelspec": {
   "name": "python3",
   "display_name": "Python 3.9.6 64-bit ('env': venv)"
  },
  "interpreter": {
   "hash": "d417529db33c8fed92ff7122eac41e9a9bb77385740f64a1ce015013cafb898e"
  }
 },
 "nbformat": 4,
 "nbformat_minor": 2
}